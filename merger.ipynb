{
 "cells": [
  {
   "cell_type": "code",
   "execution_count": 3,
   "metadata": {},
   "outputs": [
    {
     "name": "stdout",
     "output_type": "stream",
     "text": [
      "Merged DataFrame shape: (25004, 30)\n",
      "<class 'pandas.core.frame.DataFrame'>\n",
      "RangeIndex: 25004 entries, 0 to 25003\n",
      "Data columns (total 30 columns):\n",
      " #   Column                              Non-Null Count  Dtype  \n",
      "---  ------                              --------------  -----  \n",
      " 0   Titre                               24646 non-null  object \n",
      " 1   Localisation                        24414 non-null  object \n",
      " 2   Prix                                24412 non-null  object \n",
      " 3   Année-Modèle                        24308 non-null  object \n",
      " 4   Boite de vitesses                   24276 non-null  object \n",
      " 5   Type de carburant                   24312 non-null  object \n",
      " 6   Kilométrage                         24294 non-null  object \n",
      " 7   Marque                              24292 non-null  object \n",
      " 8   Modèle                              24292 non-null  object \n",
      " 9   Nombre de portes                    21500 non-null  float64\n",
      " 10  Origine                             21572 non-null  object \n",
      " 11  Première main                       20980 non-null  object \n",
      " 12  Puissance fiscale                   24292 non-null  object \n",
      " 13  État                                23246 non-null  object \n",
      " 14  ABS                                 25004 non-null  bool   \n",
      " 15  Airbags                             25004 non-null  bool   \n",
      " 16  CD/MP3/Bluetooth                    25004 non-null  bool   \n",
      " 17  Caméra de recul                     25004 non-null  bool   \n",
      " 18  Climatisation                       25004 non-null  bool   \n",
      " 19  ESP                                 25004 non-null  bool   \n",
      " 20  Jantes aluminium                    25004 non-null  bool   \n",
      " 21  Limiteur de vitesse                 25004 non-null  bool   \n",
      " 22  Ordinateur de bord                  25004 non-null  bool   \n",
      " 23  Radar de recul                      25004 non-null  bool   \n",
      " 24  Régulateur de vitesse               25004 non-null  bool   \n",
      " 25  Sièges cuir                         25004 non-null  bool   \n",
      " 26  Système de navigation/GPS           25004 non-null  bool   \n",
      " 27  Toit ouvrant                        25004 non-null  bool   \n",
      " 28  Verrouillage centralisé à distance  25004 non-null  bool   \n",
      " 29  Vitres électriques                  25004 non-null  bool   \n",
      "dtypes: bool(16), float64(1), object(13)\n",
      "memory usage: 3.1+ MB\n"
     ]
    }
   ],
   "source": [
    "import pandas as pd\n",
    "import os\n",
    "from datetime import datetime\n",
    "\n",
    "\n",
    "scraped_data_path = './scraped_data/'\n",
    "\n",
    "if not os.path.exists(scraped_data_path):\n",
    "    print(f\"Directory {scraped_data_path} does not exist\")\n",
    "    exit(1)\n",
    "\n",
    "csv_files = [f for f in os.listdir(scraped_data_path) if f.endswith('.csv')]\n",
    "\n",
    "if not csv_files:\n",
    "    print(f\"No CSV files found in {scraped_data_path}\")\n",
    "    exit(1)\n",
    "\n",
    "dataframes = [pd.read_csv(os.path.join(scraped_data_path, file)) for file in csv_files]\n",
    "merged_df = pd.concat(dataframes, ignore_index=True)\n",
    "\n",
    "print(f\"Merged DataFrame shape: {merged_df.shape}\")\n",
    "merged_df.info()\n",
    "\n",
    "merged_df.to_csv(os.path.join(scraped_data_path,\n",
    "                 f'merged_avito_data_{datetime.now().strftime(\"%Y_%m_%d_%H_%M_%S\")}.csv'), index=False)"
   ]
  }
 ],
 "metadata": {
  "kernelspec": {
   "display_name": "Python 3",
   "language": "python",
   "name": "python3"
  },
  "language_info": {
   "codemirror_mode": {
    "name": "ipython",
    "version": 3
   },
   "file_extension": ".py",
   "mimetype": "text/x-python",
   "name": "python",
   "nbconvert_exporter": "python",
   "pygments_lexer": "ipython3",
   "version": "3.12.4"
  }
 },
 "nbformat": 4,
 "nbformat_minor": 2
}
