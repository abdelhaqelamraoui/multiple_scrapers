{
 "cells": [
  {
   "cell_type": "code",
   "execution_count": null,
   "metadata": {},
   "outputs": [],
   "source": [
    "import pandas as pd\n",
    "import os\n",
    "from datetime import datetime\n",
    "\n",
    "\n",
    "scraped_data_path = './scraped_data/'\n",
    "\n",
    "if not os.path.exists(scraped_data_path):\n",
    "    print(f\"Directory {scraped_data_path} does not exist\")\n",
    "    exit(1)\n",
    "\n",
    "csv_files = [f for f in os.listdir(scraped_data_path) if f.endswith('.csv')]\n",
    "\n",
    "if not csv_files:\n",
    "    print(f\"No CSV files found in {scraped_data_path}\")\n",
    "    exit(1)\n",
    "\n",
    "dataframes = [pd.read_csv(os.path.join(scraped_data_path, file)) for file in csv_files]\n",
    "merged_df = pd.concat(dataframes, ignore_index=True)\n",
    "\n",
    "print(f\"Merged DataFrame shape: {merged_df.shape}\")\n",
    "merged_df.info()\n",
    "\n",
    "merged_df.dropna()\n",
    "\n",
    "merged_df.to_csv(os.path.join(scraped_data_path,\n",
    "                 f'merged_avito_data_{datetime.now().strftime(\"%Y_%m_%d_%H_%M_%S\")}.csv'), index=False)"
   ]
  },
  {
   "cell_type": "code",
   "execution_count": null,
   "metadata": {},
   "outputs": [],
   "source": [
    "merged_df"
   ]
  }
 ],
 "metadata": {
  "kernelspec": {
   "display_name": "Python 3",
   "language": "python",
   "name": "python3"
  },
  "language_info": {
   "codemirror_mode": {
    "name": "ipython",
    "version": 3
   },
   "file_extension": ".py",
   "mimetype": "text/x-python",
   "name": "python",
   "nbconvert_exporter": "python",
   "pygments_lexer": "ipython3",
   "version": "3.12.4"
  }
 },
 "nbformat": 4,
 "nbformat_minor": 2
}
